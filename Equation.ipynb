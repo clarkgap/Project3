{
 "cells": [
  {
   "cell_type": "code",
   "execution_count": null,
   "metadata": {
    "collapsed": true
   },
   "outputs": [],
   "source": []
  },
  {
   "cell_type": "markdown",
   "source": [
    "$\n",
    "\\dot x=\n",
    " \\begin{bmatrix}\n",
    "   \\dot r \\\\\\\\\n",
    "   \\ddot r\\\\\\\\\n",
    "   \\dot w\n",
    "  \\end{bmatrix}\n",
    "  = A\n",
    " \\begin{bmatrix}\n",
    "   r \\\\\\\\\n",
    "   \\dot r\\\\\\\\\n",
    "   w\n",
    "  \\end{bmatrix} + B*u\n",
    "$\n",
    "\n",
    "$\n",
    "\\dot x_{eq}=\n",
    " \\begin{bmatrix}\n",
    "   \\dot r_{eq} \\\\\\\\\n",
    "   \\ddot r_{eq}\\\\\\\\\n",
    "   \\dot w_{eq}\n",
    "  \\end{bmatrix} \\equiv\n",
    " \\begin{bmatrix}\n",
    "   0 \\\\\\\\\n",
    "   Constant \\\\\\\\\n",
    "   Constant\n",
    "  \\end{bmatrix}  \\neq 0\n",
    "$\n",
    "\n",
    "$x=x_{eq}+\\delta x$\n",
    "\n",
    "$\\dot x=\\dot x_{eq}+\\delta \\dot x$\n",
    "\n",
    "$\\dot x - \\dot x_{eq} = \\delta \\dot x$\n",
    "\n",
    "$\\dot x - \\dot x_{eq} = A(x-x_{eq})+B(u-u_{eq})=\\delta \\dot x$\n",
    "\n",
    "$\\dot x = A(x-x_{eq})+B(u-u_{eq})$\n",
    "\n",
    "$\n",
    "x_{eq} =\n",
    " \\begin{bmatrix}\n",
    "   r_{eq} \\\\\\\\\n",
    "   \\dot r_{eq}\\\\\\\\\n",
    "   w_{eq}\n",
    "  \\end{bmatrix}\n",
    "$\n",
    "\n",
    "$\n",
    "Q =\n",
    " \\begin{bmatrix}\n",
    "   1*10^{-6} & 0 & 0 \\\\\\\\\n",
    "   0 & 1 & 0\\\\\\\\\n",
    "   0 & 0 & 1\n",
    "  \\end{bmatrix}\n",
    "$\n",
    "\n",
    "$R=4*10^3$"
   ],
   "metadata": {
    "collapsed": false
   }
  }
 ],
 "metadata": {
  "kernelspec": {
   "display_name": "Python 3",
   "language": "python",
   "name": "python3"
  },
  "language_info": {
   "codemirror_mode": {
    "name": "ipython",
    "version": 2
   },
   "file_extension": ".py",
   "mimetype": "text/x-python",
   "name": "python",
   "nbconvert_exporter": "python",
   "pygments_lexer": "ipython2",
   "version": "2.7.6"
  }
 },
 "nbformat": 4,
 "nbformat_minor": 0
}